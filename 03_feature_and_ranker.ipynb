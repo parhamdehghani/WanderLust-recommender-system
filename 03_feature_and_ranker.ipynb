{
 "cells": [
  {
   "cell_type": "code",
   "execution_count": null,
   "id": "98ce7339-0a6b-4c3a-bf5d-47d19f0d42c2",
   "metadata": {
    "tags": []
   },
   "outputs": [],
   "source": [
    "# --- Install Libraries ---\n",
    "!pip install pandas gcsfs pyarrow scikit-learn xgboost sentence-transformers -q\n",
    "\n",
    "# --- Import Libraries ---\n",
    "import pandas as pd\n",
    "from sentence_transformers import SentenceTransformer\n",
    "import numpy as np\n",
    "import os\n",
    "\n",
    "# --- Load the Fine-Tuned Model from GCS bucket ---\n",
    "bucketName = 'wanderlust-recommender-system'\n",
    "modelPath = f'gs://{bucketName}/processed/hotel_recommender_finetuned/'\n",
    "localModelPath = 'finetunedModel'\n",
    "\n",
    "# --- Download the Model from GCS to the Local Instance ---\n",
    "# Create the local directory if it doesn't exist\n",
    "if not os.path.exists(localModelPath):\n",
    "    os.makedirs(localModelPath)\n",
    "\n",
    "# Use gsutil to copy the files\n",
    "print(\"Downloading fine-tuned model from GCS bucket ...\")\n",
    "!gsutil -m cp -r {modelPath}* {localModelPath}\n",
    "print(\"Model downloaded successfully.\")\n",
    "\n",
    "print(\"Loading the fine-tuned model ...\")\n",
    "model = SentenceTransformer(localModelPath)\n",
    "print(\"Model loaded successfully.\")\n",
    "\n",
    "# --- Load the Cleaned Hotel Review Data ---\n",
    "dataPath = f'gs://{bucketName}/processed/combined_hotel_reviews.parquet'\n",
    "print(\"Cleaned data loading ...\")\n",
    "df = pd.read_parquet(dataPath)\n",
    "print(\"Data Loaded successfully.\")"
   ]
  },
  {
   "cell_type": "code",
   "execution_count": null,
   "id": "1fa2e651-11bb-4a2b-b927-b5a3ceeabe4e",
   "metadata": {
    "tags": []
   },
   "outputs": [],
   "source": [
    "# --- Consolidate Reviews for Each Hotel ---\n",
    "print(\"Consolidating all reviews for each hotel ...\")\n",
    "dfConsolidated = df.groupby('hotel_id')['reviews.text'].\\\n",
    "apply(lambda x: ' '.join(x)).reset_index()\n",
    "dfConsolidated.rename(columns={'reviews.text': 'allReviews'}, inplace=True)\n",
    "print(f'Consolidation done successfully for {len(dfConsolidated)} hotels.')\n",
    "\n",
    "# --- Generate Embeddings ---\n",
    "embeddedData = model.encode(dfConsolidated.allReviews.tolist(),\\\n",
    "                            show_progress_bar=True)\n",
    "\n",
    "# --- Create a Hotel ID to Embedding Dictionary ---\n",
    "embeddingDict = dict(zip(dfConsolidated.hotel_id, embeddedData))\n",
    "print(f'Embedding dictionary created for {len(embeddedData)} hotels.')\n",
    "print('Saving numpy object for new embeddings ...')\n",
    "localPathEmbedding = 'newEmbedding.npy'\n",
    "np.save(localPathEmbedding,embeddingDict)\n",
    "print('Object saved on local instance.')\n",
    "\n",
    "\n",
    "# We check the shape of one embedding to see its dimensionality.\n",
    "print(f'Check for dimension of an input in embedding file: {next(iter(embeddingDict.values())).shape}')\n",
    "\n",
    "# --- Save Embeddings to GCS ---\n",
    "print('Saving embedding object to GCS bucket ...')\n",
    "!gsutil -m cp {localPathEmbedding} gs://{bucketName}/processed/\n",
    "print('Saved successfully.')"
   ]
  },
  {
   "cell_type": "code",
   "execution_count": null,
   "id": "ee2a2d64-d7ff-4500-a5ba-f9b65ca9257d",
   "metadata": {
    "tags": []
   },
   "outputs": [],
   "source": [
    "df['reviews.rating']"
   ]
  },
  {
   "cell_type": "code",
   "execution_count": null,
   "id": "3331287e-7001-4be3-88a9-32d70f2070fd",
   "metadata": {
    "tags": []
   },
   "outputs": [],
   "source": [
    "from scipy.sparse import csr_matrix\n",
    "from sklearn.decomposition import TruncatedSVD\n",
    "\n",
    "# --- Preprocess for Uniqueness ---\n",
    "# Group by user and hotel to find the average rating for any user for a single hotel\n",
    "print('Check for duplicate ratings for each hotel and then averaging ...')\n",
    "uniquePairs = df.groupby(['user_id','hotel_id'])['reviews.rating'].mean().reset_index()\n",
    "print('Unique pairs of user_id and hotel_id created.')\n",
    "\n",
    "# --- Create the User-Item Interaction Matrix ---\n",
    "nuniqueUsers = uniquePairs.user_id.nunique()\n",
    "nuniqueHotels = uniquePairs.hotel_id.nunique()\n",
    "print('Creating user-hotel interaction matrix ...')\n",
    "interactionMatrix = csr_matrix((uniquePairs['reviews.rating'],(uniquePairs.user_id,uniquePairs.hotel_id)), shape=(nuniqueUsers,nuniqueHotels))\n",
    "print('Matrix created.')\n",
    "\n",
    "# --- Decompose the Matrix with TruncatedSVD ---\n",
    "print('SVD computation started with 50 latant features ...')\n",
    "svd = TruncatedSVD(n_components=50, random_state=42)\n",
    "svd.fit(interactionMatrix)\n",
    "print('SVD computation done.')\n",
    "\n",
    "\n",
    "\n",
    "# --- Extract User and Hotel Factors ---\n",
    "print('Extracting user and hotel factors matrices ...')\n",
    "hotelFactor = svd.components_.T\n",
    "userFactor = svd.transform(interactionMatrix)\n",
    "print(f'User and hotel fators matrices created with {userFactor.shape} and {hotelFactor.shape} shapes respectively.')\n",
    "\n",
    "\n",
    "# --- Save SVD Factors to GCS ---\n",
    "userPath, hotelPath = 'userFactor.npy', 'hotelFactor.npy'\n",
    "np.save(userPath, userFactor)\n",
    "np.save(hotelPath, hotelFactor)\n",
    "print('Saving user and hotel factors matrices on GCS bucket ...')\n",
    "!gsutil -m cp userFactor.npy gs://{bucketName}/processed/\n",
    "!gsutil -m cp hotelFactor.npy gs://{bucketName}/processed/\n",
    "!rm -f {userPath} {hotelPath}\n",
    "print('Saved successfully.')"
   ]
  }
 ],
 "metadata": {
  "environment": {
   "kernel": "conda-base-py",
   "name": "workbench-notebooks.m131",
   "type": "gcloud",
   "uri": "us-docker.pkg.dev/deeplearning-platform-release/gcr.io/workbench-notebooks:m131"
  },
  "kernelspec": {
   "display_name": "Python 3 (ipykernel) (Local)",
   "language": "python",
   "name": "conda-base-py"
  },
  "language_info": {
   "codemirror_mode": {
    "name": "ipython",
    "version": 3
   },
   "file_extension": ".py",
   "mimetype": "text/x-python",
   "name": "python",
   "nbconvert_exporter": "python",
   "pygments_lexer": "ipython3",
   "version": "3.10.18"
  }
 },
 "nbformat": 4,
 "nbformat_minor": 5
}
