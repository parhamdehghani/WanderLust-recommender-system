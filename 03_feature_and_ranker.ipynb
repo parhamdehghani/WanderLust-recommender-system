{
 "cells": [
  {
   "cell_type": "code",
   "execution_count": null,
   "id": "98ce7339-0a6b-4c3a-bf5d-47d19f0d42c2",
   "metadata": {
    "tags": []
   },
   "outputs": [],
   "source": [
    "# --- Install Libraries ---\n",
    "!pip install pandas gcsfs pyarrow scikit-learn xgboost sentence-transformers -q\n",
    "\n",
    "# --- Import Libraries ---\n",
    "import pandas as pd\n",
    "from sentence_transformers import SentenceTransformer\n",
    "import numpy as np\n",
    "import os\n",
    "\n",
    "# --- Load the Fine-Tuned Model from GCS bucket ---\n",
    "bucketName = 'wanderlust-recommender-system'\n",
    "modelPath = f'gs://{bucketName}/processed/hotel_recommender_finetuned/'\n",
    "localModelPath = 'finetunedModel'\n",
    "\n",
    "# --- Download the Model from GCS to the Local Instance ---\n",
    "# Create the local directory if it doesn't exist\n",
    "if not os.path.exists(localModelPath):\n",
    "    os.makedirs(localModelPath)\n",
    "\n",
    "# Use gsutil to copy the files\n",
    "print(\"Downloading fine-tuned model from GCS bucket ...\")\n",
    "!gsutil -m cp -r {modelPath}* {localModelPath}\n",
    "print(\"Model downloaded successfully.\")\n",
    "\n",
    "print(\"Loading the fine-tuned model ...\")\n",
    "model = SentenceTransformer(localModelPath, device='cuda')\n",
    "print(\"Model loaded successfully.\")\n",
    "\n",
    "# --- Load the Cleaned Hotel Review Data ---\n",
    "dataPath = f'gs://{bucketName}/processed/combined_hotel_reviews.parquet'\n",
    "print(\"Cleaned data loading ...\")\n",
    "df = pd.read_parquet(dataPath)\n",
    "print(\"Data Loaded successfully.\")"
   ]
  },
  {
   "cell_type": "code",
   "execution_count": null,
   "id": "1fa2e651-11bb-4a2b-b927-b5a3ceeabe4e",
   "metadata": {
    "tags": []
   },
   "outputs": [],
   "source": [
    "# --- Consolidate Reviews for Each Hotel ---\n",
    "print(\"Consolidating all reviews for each hotel ...\")\n",
    "dfConsolidated = df.groupby('hotel_id')['reviews.text'].\\\n",
    "apply(lambda x: ' '.join(x)).reset_index()\n",
    "dfConsolidated.rename(columns={'reviews.text': 'allReviews'}, inplace=True)\n",
    "print(f'Consolidation done successfully for {len(dfConsolidated)} hotels.')\n",
    "\n",
    "# --- Generate Embeddings ---\n",
    "embeddedData = model.encode(dfConsolidated.allReviews.tolist(),\\\n",
    "                            show_progress_bar=True)\n",
    "\n",
    "# --- Create a Hotel ID to Embedding Dictionary ---\n",
    "embeddingDict = dict(zip(dfConsolidated.hotel_id, embeddedData))\n",
    "print(f'Embedding dictionary created for {len(embeddedData)} hotels.')\n",
    "print('Saving numpy object for new embeddings ...')\n",
    "localPathEmbedding = 'newEmbedding.npy'\n",
    "np.save(localPathEmbedding,embeddingDict)\n",
    "print('Object saved on local instance.')\n",
    "\n",
    "\n",
    "# We check the shape of one embedding to see its dimensionality.\n",
    "print(f'Check for dimension of an input in embedding file: {next(iter(embeddingDict.values())).shape}')\n",
    "\n",
    "# --- Save Embeddings to GCS ---\n",
    "print('Saving embedding object to GCS bucket ...')\n",
    "!gsutil -m cp {localPathEmbedding} gs://{bucketName}/processed/\n",
    "print('Saved successfully.')"
   ]
  }
 ],
 "metadata": {
  "environment": {
   "kernel": "conda-base-py",
   "name": "workbench-notebooks.m131",
   "type": "gcloud",
   "uri": "us-docker.pkg.dev/deeplearning-platform-release/gcr.io/workbench-notebooks:m131"
  },
  "kernelspec": {
   "display_name": "Python 3 (ipykernel) (Local)",
   "language": "python",
   "name": "conda-base-py"
  },
  "language_info": {
   "codemirror_mode": {
    "name": "ipython",
    "version": 3
   },
   "file_extension": ".py",
   "mimetype": "text/x-python",
   "name": "python",
   "nbconvert_exporter": "python",
   "pygments_lexer": "ipython3",
   "version": "3.10.18"
  }
 },
 "nbformat": 4,
 "nbformat_minor": 5
}
